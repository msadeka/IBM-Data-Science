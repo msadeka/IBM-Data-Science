{
 "cells": [
  {
   "cell_type": "markdown",
   "id": "01bc325f-a5bc-453e-85d2-c17fb7f9b7a2",
   "metadata": {},
   "source": [
    "# Data Science Tools and Ecosystem"
   ]
  },
  {
   "cell_type": "markdown",
   "id": "e86477c9-c57e-4314-ab56-5ef308517206",
   "metadata": {},
   "source": [
    "## In this notebook, Data Science Tools and Ecosystem are summarized."
   ]
  },
  {
   "cell_type": "markdown",
   "id": "c4df662d-3d60-4794-a2ea-c79402f54654",
   "metadata": {},
   "source": [
    "### Some of the popular languages that Data Scientists use are:\n",
    "1. Python\n",
    "2. R\n",
    "3. SQL\n",
    "4. Scala\n",
    "5. Java\n",
    "6. Julia"
   ]
  },
  {
   "cell_type": "markdown",
   "id": "69bc68c7-7f14-454d-b65f-233c0400d791",
   "metadata": {},
   "source": [
    "### Some of the commonly used libraries used by Data Scientists include:\n",
    "1. Pandas\n",
    "2. Numpy\n",
    "3. Scikit-learn\n",
    "4. Matplotlib"
   ]
  },
  {
   "cell_type": "markdown",
   "id": "11e35a0e-51b5-4192-825c-32bd5179fbf9",
   "metadata": {},
   "source": [
    "|Data Science Tools|\n",
    "--------------------\n",
    "|JupyterLite|\n",
    "|RStudio|\n",
    "|Anaconda|"
   ]
  },
  {
   "cell_type": "markdown",
   "id": "4b5998a7-db38-4b82-af11-0d933c4c6c34",
   "metadata": {},
   "source": [
    "### Below are a few examples of evaluating arithmetic expressions in Python"
   ]
  },
  {
   "cell_type": "code",
   "execution_count": 17,
   "id": "17a6ea03-778a-4416-b5b7-66c819a4441d",
   "metadata": {},
   "outputs": [
    {
     "data": {
      "text/plain": [
       "17"
      ]
     },
     "execution_count": 17,
     "metadata": {},
     "output_type": "execute_result"
    }
   ],
   "source": [
    "# This a simple arithmetic expression to mutiply then add integers\n",
    "(3*4)+5"
   ]
  },
  {
   "cell_type": "code",
   "execution_count": 19,
   "id": "bbb59507-e689-4bd4-9dfc-cd71e018c889",
   "metadata": {},
   "outputs": [
    {
     "data": {
      "text/plain": [
       "3.3333333333333335"
      ]
     },
     "execution_count": 19,
     "metadata": {},
     "output_type": "execute_result"
    }
   ],
   "source": [
    "# This will convert 200 minutes to hours by diving by 60\n",
    "200/60"
   ]
  },
  {
   "cell_type": "markdown",
   "id": "65d559f2-d54a-49b5-b227-c697c6d5d5c9",
   "metadata": {},
   "source": [
    "### Objectives:\n",
    "- List popular languages in Data Science\n",
    "- List popular libraries in Data Science\n",
    "- List popular open source tools in Data Science\n",
    "- Introduction to arithmetic expressions in Python"
   ]
  },
  {
   "cell_type": "code",
   "execution_count": null,
   "id": "4c290591-f5bd-4762-893c-f1508ec2da32",
   "metadata": {},
   "outputs": [],
   "source": []
  }
 ],
 "metadata": {
  "kernelspec": {
   "display_name": "Python 3 (ipykernel)",
   "language": "python",
   "name": "python3"
  },
  "language_info": {
   "codemirror_mode": {
    "name": "ipython",
    "version": 3
   },
   "file_extension": ".py",
   "mimetype": "text/x-python",
   "name": "python",
   "nbconvert_exporter": "python",
   "pygments_lexer": "ipython3",
   "version": "3.12.4"
  }
 },
 "nbformat": 4,
 "nbformat_minor": 5
}
